{
    "nbformat_minor": 1, 
    "cells": [
        {
            "execution_count": 50, 
            "cell_type": "code", 
            "metadata": {}, 
            "outputs": [
                {
                    "output_type": "stream", 
                    "name": "stdout", 
                    "text": "Hello! welcome to databases and SQL for Data Science\n"
                }
            ], 
            "source": "print(\"Hello! welcome to databases and SQL for Data Science\")"
        }, 
        {
            "source": "Connect to Db2 database on Cloud using Python\n\n# Introduction \nLet see how to open connection database db2 using python", 
            "cell_type": "markdown", 
            "metadata": {}
        }, 
        {
            "execution_count": 51, 
            "cell_type": "code", 
            "metadata": {}, 
            "outputs": [], 
            "source": "#ibm_db API provide a large number of python function for accessing and manipulating a large number of data in IBM database server\nimport ibm_db"
        }, 
        {
            "source": "To identify database connection we need few information like:\nDriver Name\nDatabase name\nHost DNS name or IP address\nHost port\nConnection protocol\nUser ID (or username)\nUser Password\n\n To get this information go to IBM Cloud Dashboard, then select db2. You will see server credential, click on view credential.\n", 
            "cell_type": "markdown", 
            "metadata": {}
        }, 
        {
            "execution_count": 52, 
            "cell_type": "code", 
            "metadata": {}, 
            "outputs": [], 
            "source": "dsn_driver = \"{IBM DB2 ODBC DRIVER}\"\ndsn_database = \"BLUDB\"            # e.g. \"BLUDB\"\ndsn_hostname = \"dashdb-txn-sbox-yp-dal09-03.services.dal.bluemix.net\" # e.g.: \"awh-yp-small03.services.dal.bluemix.net\"\ndsn_port = \"50000\"                # e.g. \"50000\" \ndsn_protocol = \"TCPIP\"            # i.e. \"TCPIP\"\ndsn_uid = \"rwx55366\"        # e.g. \"dash104434\"\ndsn_pwd = \"1bvnbq9xh93@3txb\"       # e.g. \"7dBZ3wWt9XN6$o0JiX!m\""
        }, 
        {
            "execution_count": 53, 
            "cell_type": "code", 
            "metadata": {}, 
            "outputs": [
                {
                    "output_type": "stream", 
                    "name": "stdout", 
                    "text": "DRIVER={IBM DB2 ODBC DRIVER};DATABASE=BLUDB;HOSTNAME=dashdb-txn-sbox-yp-dal09-03.services.dal.bluemix.net;PORT=50000;PROTOCOL=TCPIP;UID=rwx55366;PWD=1bvnbq9xh93@3txb;\n"
                }
            ], 
            "source": "#Create the dsn connection string\ndsn = (\n    \"DRIVER={0};\"\n    \"DATABASE={1};\"\n    \"HOSTNAME={2};\"\n    \"PORT={3};\"\n    \"PROTOCOL={4};\"\n    \"UID={5};\"\n    \"PWD={6};\").format(dsn_driver, dsn_database, dsn_hostname, dsn_port, dsn_protocol, dsn_uid, dsn_pwd)\n\n#print the connection string to check correct values are specified\nprint(dsn)"
        }, 
        {
            "execution_count": 54, 
            "cell_type": "code", 
            "metadata": {}, 
            "outputs": [
                {
                    "output_type": "stream", 
                    "name": "stdout", 
                    "text": "Connected!\n"
                }
            ], 
            "source": "#Create database connection\n\ntry:\n    conn = ibm_db.connect(dsn, \"\", \"\")\n    print (\"Connected!\")\n\nexcept:\n    print (\"Unable to connect to database\")\n\n"
        }, 
        {
            "execution_count": 55, 
            "cell_type": "code", 
            "metadata": {}, 
            "outputs": [], 
            "source": "#let's create the table in database\n#Lets first drop the table INSTRUCTOR in case it exists from a previous attempt\ndropQuery = \"drop table INSTRUCTOR\"\n\n#Now execute the drop statment\ndropQuery = ibm_db.exec_immediate(conn, dropQuery)"
        }, 
        {
            "execution_count": 56, 
            "cell_type": "code", 
            "metadata": {}, 
            "outputs": [], 
            "source": "#Construct the Create Table DDL statement - replace the ... with rest of the statement\ncreateQuery = \"create table INSTRUCTOR(ID INTEGER PRIMARY KEY NOT NULL, FNAME VARCHAR(20), LNAME VARCHAR(20), CITY VARCHAR(20), CCODE CHAR(2))\"\n\ncreateStmt = ibm_db.exec_immediate(conn,createQuery)\n"
        }, 
        {
            "execution_count": 57, 
            "cell_type": "code", 
            "metadata": {}, 
            "outputs": [], 
            "source": "#Construct the query - replace ... with the insert statement\ninsertQuery = \"insert into INSTRUCTOR values (1,'Rav','Ahuja','Toronto','CA'),(2,'Raul','Chong','Toronto','CA'),(3,'Hima','Vasudevan','Chicago','US') \"\n\n#execute the insert statement\ninsertStmt = ibm_db.exec_immediate(conn, insertQuery)"
        }, 
        {
            "execution_count": 58, 
            "cell_type": "code", 
            "metadata": {}, 
            "outputs": [], 
            "source": "#Construct the query that retrieves all rows from the INSTRUCTOR table\nselectQuery = \"select * from INSTRUCTOR\"\n\n#Execute the statement\nselectStmt = ibm_db.exec_immediate(conn, selectQuery)\n\n#Fetch the Dictionary (for the first row only) - replace ... with your code\ndictquery=\"select * from INSTRUCTOR where id=1\"\ndictstmt=ibm_db.exec_immediate(conn, dictquery)"
        }, 
        {
            "execution_count": null, 
            "cell_type": "code", 
            "metadata": {}, 
            "outputs": [], 
            "source": ""
        }, 
        {
            "execution_count": 59, 
            "cell_type": "code", 
            "metadata": {}, 
            "outputs": [], 
            "source": "#close the connection\n#ibm_db.close(conn)"
        }
    ], 
    "metadata": {
        "kernelspec": {
            "display_name": "Python 3.5", 
            "name": "python3", 
            "language": "python"
        }, 
        "language_info": {
            "mimetype": "text/x-python", 
            "nbconvert_exporter": "python", 
            "version": "3.5.5", 
            "name": "python", 
            "file_extension": ".py", 
            "pygments_lexer": "ipython3", 
            "codemirror_mode": {
                "version": 3, 
                "name": "ipython"
            }
        }
    }, 
    "nbformat": 4
}